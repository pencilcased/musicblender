{
 "cells": [
  {
   "cell_type": "code",
   "execution_count": null,
   "id": "23bef434",
   "metadata": {},
   "outputs": [],
   "source": [
    "import pylast\n",
    "import os"
   ]
  },
  {
   "cell_type": "code",
   "execution_count": null,
   "id": "1580a4e2",
   "metadata": {},
   "outputs": [],
   "source": [
    "API_KEY = \"f41fbd8cfe0e34f9cc5fd0d464aed3af\" \n",
    "API_SECRET = \"488551532b42d9636b615aa5a7e3ab90\""
   ]
  },
  {
   "cell_type": "code",
   "execution_count": 12,
   "id": "03042b03",
   "metadata": {},
   "outputs": [
    {
     "name": "stdout",
     "output_type": "stream",
     "text": [
      "Please authorize this script to access your account: https://www.last.fm/api/auth/?api_key=f41fbd8cfe0e34f9cc5fd0d464aed3af&token=rrKeaH8G8H4rOI24AF7dAvRmvfrlRD5c\n",
      "\n"
     ]
    }
   ],
   "source": [
    "SESSION_KEY_FILE = os.path.join(os.path.expanduser(\"~\"), \".session_key\")\n",
    "network = pylast.LastFMNetwork(API_KEY, API_SECRET)\n",
    "if not os.path.exists(SESSION_KEY_FILE):\n",
    "    skg = pylast.SessionKeyGenerator(network)\n",
    "    url = skg.get_web_auth_url()\n",
    "\n",
    "    print(f\"Please authorize this script to access your account: {url}\\n\")\n",
    "    import time\n",
    "    import webbrowser\n",
    "\n",
    "    webbrowser.open(url)\n",
    "\n",
    "    while True:\n",
    "        try:\n",
    "            session_key = skg.get_web_auth_session_key(url)\n",
    "            with open(SESSION_KEY_FILE, \"w\") as f:\n",
    "                f.write(session_key)\n",
    "            break\n",
    "        except pylast.WSError:\n",
    "            time.sleep(1)\n",
    "else:\n",
    "    session_key = open(SESSION_KEY_FILE).read()\n",
    "\n",
    "network.session_key = session_key"
   ]
  },
  {
   "cell_type": "code",
   "execution_count": null,
   "id": "7f1ad329",
   "metadata": {},
   "outputs": [],
   "source": []
  }
 ],
 "metadata": {
  "kernelspec": {
   "display_name": ".venv (3.9.13)",
   "language": "python",
   "name": "python3"
  },
  "language_info": {
   "codemirror_mode": {
    "name": "ipython",
    "version": 3
   },
   "file_extension": ".py",
   "mimetype": "text/x-python",
   "name": "python",
   "nbconvert_exporter": "python",
   "pygments_lexer": "ipython3",
   "version": "3.9.13"
  }
 },
 "nbformat": 4,
 "nbformat_minor": 5
}
